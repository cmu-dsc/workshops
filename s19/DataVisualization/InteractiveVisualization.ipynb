{
 "cells": [
  {
   "cell_type": "markdown",
   "metadata": {
    "slideshow": {
     "slide_type": "slide"
    }
   },
   "source": [
    "# Interactive Visualization\n",
    "## CMU Data Science Club\n",
    "### Husni Almoubayyed"
   ]
  },
  {
   "cell_type": "markdown",
   "metadata": {},
   "source": [
    "Follow along by visiting https://bit.ly/DSCInteractiveViz"
   ]
  },
  {
   "cell_type": "markdown",
   "metadata": {},
   "source": [
    "Note: Interactive plots in this notebook will not appear in the GitHub view, You can view this including the plots in the html version [here](http://htmlpreview.github.io/?https://github.com/hsnee/CMU-DSC-Talks/blob/master/Data_Visualization/InteractiveVisualization.html), or you can download this notebook and run it locally to create the plots."
   ]
  },
  {
   "cell_type": "code",
   "execution_count": null,
   "metadata": {
    "slideshow": {
     "slide_type": "slide"
    }
   },
   "outputs": [],
   "source": [
    "# pip install packages we're gonna use\n",
    "!pip install --upgrade numpy plotly pandas pandas_datareader "
   ]
  },
  {
   "cell_type": "markdown",
   "metadata": {
    "slideshow": {
     "slide_type": "fragment"
    }
   },
   "source": [
    "In this tutorial we will explore interactive data visualization with Plotly. First, you need to make an account at https://plot.ly/Auth/login/?action=signup#/, and then go to https://plot.ly/settings/api, click regenerate key, copy it, and paste it in the `api_key` argument in the cell below, along with your username"
   ]
  },
  {
   "cell_type": "code",
   "execution_count": null,
   "metadata": {
    "slideshow": {
     "slide_type": "fragment"
    }
   },
   "outputs": [],
   "source": [
    "import plotly\n",
    "plotly.tools.set_credentials_file(username='', api_key='')"
   ]
  },
  {
   "cell_type": "code",
   "execution_count": 1,
   "metadata": {
    "slideshow": {
     "slide_type": "slide"
    }
   },
   "outputs": [],
   "source": [
    "# import libraries we're gonna use\n",
    "import numpy as np\n",
    "import pandas_datareader.data as web\n",
    "import datetime\n",
    "import plotly.plotly as py\n",
    "import plotly.figure_factory as ff\n",
    "import plotly.graph_objs as go"
   ]
  },
  {
   "cell_type": "markdown",
   "metadata": {
    "slideshow": {
     "slide_type": "slide"
    }
   },
   "source": [
    "We talked about `pandas` last time. `pandas` actually stands for 'panel data' and was created with finance in mind (woth some core developers working at hedge funds). It provides an API to fetch financial data from Yahoo Finance, Morningstar, etc."
   ]
  },
  {
   "cell_type": "markdown",
   "metadata": {},
   "source": [
    "We're gonna look at financial data (stock market prices) fetched from Yahoo Finance using pandas_datareader. `Datetime` is a nice python library that handles dates and times consistently in a way that many other libraries, such as pandas, use. Let's fetch data from the start of 2008 to the start of 2018."
   ]
  },
  {
   "cell_type": "code",
   "execution_count": 2,
   "metadata": {
    "slideshow": {
     "slide_type": "slide"
    }
   },
   "outputs": [],
   "source": [
    "start = datetime.datetime(2008, 1, 1)\n",
    "end = datetime.datetime(2018, 1, 1)"
   ]
  },
  {
   "cell_type": "code",
   "execution_count": 3,
   "metadata": {
    "slideshow": {
     "slide_type": "fragment"
    }
   },
   "outputs": [],
   "source": [
    "# This fetches the stock prices for the S%P 500 for the dates we selected from Yahoo Finance.\n",
    "spy_df = web.DataReader('SPY', 'yahoo', start, end).reset_index()"
   ]
  },
  {
   "cell_type": "code",
   "execution_count": 4,
   "metadata": {
    "slideshow": {
     "slide_type": "fragment"
    }
   },
   "outputs": [
    {
     "data": {
      "text/html": [
       "<div>\n",
       "<style scoped>\n",
       "    .dataframe tbody tr th:only-of-type {\n",
       "        vertical-align: middle;\n",
       "    }\n",
       "\n",
       "    .dataframe tbody tr th {\n",
       "        vertical-align: top;\n",
       "    }\n",
       "\n",
       "    .dataframe thead th {\n",
       "        text-align: right;\n",
       "    }\n",
       "</style>\n",
       "<table border=\"1\" class=\"dataframe\">\n",
       "  <thead>\n",
       "    <tr style=\"text-align: right;\">\n",
       "      <th></th>\n",
       "      <th>Date</th>\n",
       "      <th>High</th>\n",
       "      <th>Low</th>\n",
       "      <th>Open</th>\n",
       "      <th>Close</th>\n",
       "      <th>Volume</th>\n",
       "      <th>Adj Close</th>\n",
       "    </tr>\n",
       "  </thead>\n",
       "  <tbody>\n",
       "    <tr>\n",
       "      <th>0</th>\n",
       "      <td>2008-01-02</td>\n",
       "      <td>146.990005</td>\n",
       "      <td>143.880005</td>\n",
       "      <td>146.529999</td>\n",
       "      <td>144.929993</td>\n",
       "      <td>204935600.0</td>\n",
       "      <td>116.068459</td>\n",
       "    </tr>\n",
       "    <tr>\n",
       "      <th>1</th>\n",
       "      <td>2008-01-03</td>\n",
       "      <td>145.490005</td>\n",
       "      <td>144.070007</td>\n",
       "      <td>144.910004</td>\n",
       "      <td>144.860001</td>\n",
       "      <td>125133300.0</td>\n",
       "      <td>116.012428</td>\n",
       "    </tr>\n",
       "    <tr>\n",
       "      <th>2</th>\n",
       "      <td>2008-01-04</td>\n",
       "      <td>143.440002</td>\n",
       "      <td>140.910004</td>\n",
       "      <td>143.339996</td>\n",
       "      <td>141.309998</td>\n",
       "      <td>232330900.0</td>\n",
       "      <td>113.169357</td>\n",
       "    </tr>\n",
       "    <tr>\n",
       "      <th>3</th>\n",
       "      <td>2008-01-07</td>\n",
       "      <td>142.229996</td>\n",
       "      <td>140.100006</td>\n",
       "      <td>141.809998</td>\n",
       "      <td>141.190002</td>\n",
       "      <td>234991000.0</td>\n",
       "      <td>113.073250</td>\n",
       "    </tr>\n",
       "    <tr>\n",
       "      <th>4</th>\n",
       "      <td>2008-01-08</td>\n",
       "      <td>142.899994</td>\n",
       "      <td>138.440002</td>\n",
       "      <td>142.080002</td>\n",
       "      <td>138.910004</td>\n",
       "      <td>326365700.0</td>\n",
       "      <td>111.247330</td>\n",
       "    </tr>\n",
       "  </tbody>\n",
       "</table>\n",
       "</div>"
      ],
      "text/plain": [
       "        Date        High         Low        Open       Close       Volume  \\\n",
       "0 2008-01-02  146.990005  143.880005  146.529999  144.929993  204935600.0   \n",
       "1 2008-01-03  145.490005  144.070007  144.910004  144.860001  125133300.0   \n",
       "2 2008-01-04  143.440002  140.910004  143.339996  141.309998  232330900.0   \n",
       "3 2008-01-07  142.229996  140.100006  141.809998  141.190002  234991000.0   \n",
       "4 2008-01-08  142.899994  138.440002  142.080002  138.910004  326365700.0   \n",
       "\n",
       "    Adj Close  \n",
       "0  116.068459  \n",
       "1  116.012428  \n",
       "2  113.169357  \n",
       "3  113.073250  \n",
       "4  111.247330  "
      ]
     },
     "execution_count": 4,
     "metadata": {},
     "output_type": "execute_result"
    }
   ],
   "source": [
    "spy_df.head()"
   ]
  },
  {
   "cell_type": "code",
   "execution_count": 4,
   "metadata": {
    "slideshow": {
     "slide_type": "subslide"
    }
   },
   "outputs": [
    {
     "data": {
      "text/html": [
       "<iframe id=\"igraph\" scrolling=\"no\" style=\"border:none;\" seamless=\"seamless\" src=\"https://plot.ly/~hsnee/345.embed\" height=\"230px\" width=\"100%\"></iframe>"
      ],
      "text/plain": [
       "<plotly.tools.PlotlyDisplay object>"
      ]
     },
     "execution_count": 4,
     "metadata": {},
     "output_type": "execute_result"
    }
   ],
   "source": [
    "# Our first interaction with Plotly. Plotly can create tables when passed a pandas DataFrame\n",
    "py.iplot(ff.create_table(spy_df.head()))"
   ]
  },
  {
   "cell_type": "markdown",
   "metadata": {},
   "source": [
    "That wasn't extremely helpful... Let's try something more interesting."
   ]
  },
  {
   "cell_type": "markdown",
   "metadata": {
    "slideshow": {
     "slide_type": "subslide"
    }
   },
   "source": [
    "In general, the `plotly` syntax goes like this:\n",
    "\n",
    "`data`: a list of `plotly.graph_objs`, or a list of dictionaries.\n",
    "\n",
    "`layout`: usually optional, controls the aesthetics of your plot\n",
    "\n",
    "then you call\n",
    "\n",
    "`py.iplot(data, layout)`\n",
    "\n",
    "Let's look at some examples:"
   ]
  },
  {
   "cell_type": "code",
   "execution_count": 5,
   "metadata": {
    "slideshow": {
     "slide_type": "fragment"
    }
   },
   "outputs": [
    {
     "data": {
      "text/html": [
       "<iframe id=\"igraph\" scrolling=\"no\" style=\"border:none;\" seamless=\"seamless\" src=\"https://plot.ly/~hsnee/347.embed\" height=\"525px\" width=\"100%\"></iframe>"
      ],
      "text/plain": [
       "<plotly.tools.PlotlyDisplay object>"
      ]
     },
     "execution_count": 5,
     "metadata": {},
     "output_type": "execute_result"
    }
   ],
   "source": [
    "data = [go.Scatter(x=spy_df.Date, y=spy_df.Close)]\n",
    "\n",
    "py.iplot(data)"
   ]
  },
  {
   "cell_type": "code",
   "execution_count": 6,
   "metadata": {
    "slideshow": {
     "slide_type": "subslide"
    }
   },
   "outputs": [
    {
     "data": {
      "text/html": [
       "<iframe id=\"igraph\" scrolling=\"no\" style=\"border:none;\" seamless=\"seamless\" src=\"https://plot.ly/~hsnee/349.embed\" height=\"525px\" width=\"100%\"></iframe>"
      ],
      "text/plain": [
       "<plotly.tools.PlotlyDisplay object>"
      ]
     },
     "execution_count": 6,
     "metadata": {},
     "output_type": "execute_result"
    }
   ],
   "source": [
    "data = [go.Candlestick(x=spy_df.Date[0:90],\n",
    "                       open=spy_df.Open[0:90],\n",
    "                       high=spy_df.High[0:90],\n",
    "                       low=spy_df.Low[0:90],\n",
    "                       close=spy_df.Close[0:90])]\n",
    "py.iplot(data)"
   ]
  },
  {
   "cell_type": "markdown",
   "metadata": {},
   "source": [
    "Let's define a function `rollingReturns` that returns the 1-year returns for an invesment in a stock:"
   ]
  },
  {
   "cell_type": "code",
   "execution_count": 8,
   "metadata": {
    "slideshow": {
     "slide_type": "subslide"
    }
   },
   "outputs": [],
   "source": [
    "def rollingReturns(df, lookback=360):\n",
    "    x = df.Date\n",
    "    y = df.Close\n",
    "    return [y[i]/y[i-lookback] for i in range(lookback,len(list(y)))]"
   ]
  },
  {
   "cell_type": "code",
   "execution_count": 9,
   "metadata": {
    "slideshow": {
     "slide_type": "fragment"
    }
   },
   "outputs": [
    {
     "data": {
      "text/html": [
       "<iframe id=\"igraph\" scrolling=\"no\" style=\"border:none;\" seamless=\"seamless\" src=\"https://plot.ly/~hsnee/351.embed\" height=\"525px\" width=\"100%\"></iframe>"
      ],
      "text/plain": [
       "<plotly.tools.PlotlyDisplay object>"
      ]
     },
     "execution_count": 9,
     "metadata": {},
     "output_type": "execute_result"
    }
   ],
   "source": [
    "data = [go.Scatter(x=spy_df.Date, y=rollingReturns(spy_df))]\n",
    "\n",
    "py.iplot(data)"
   ]
  },
  {
   "cell_type": "markdown",
   "metadata": {
    "slideshow": {
     "slide_type": "slide"
    }
   },
   "source": [
    "## Adding buttons:"
   ]
  },
  {
   "cell_type": "code",
   "execution_count": 10,
   "metadata": {
    "slideshow": {
     "slide_type": "subslide"
    }
   },
   "outputs": [
    {
     "data": {
      "text/html": [
       "<iframe id=\"igraph\" scrolling=\"no\" style=\"border:none;\" seamless=\"seamless\" src=\"https://plot.ly/~hsnee/10.embed\" height=\"525px\" width=\"100%\"></iframe>"
      ],
      "text/plain": [
       "<plotly.tools.PlotlyDisplay object>"
      ]
     },
     "execution_count": 10,
     "metadata": {},
     "output_type": "execute_result"
    }
   ],
   "source": [
    "aapl_df = web.DataReader('AAPL', 'yahoo', start, end).reset_index()\n",
    "data = [go.Scatter(x=spy_df.Date, y=spy_df.Close, name='S%P 500'),\n",
    "        go.Scatter(x=aapl_df.Date, y=aapl_df.Close, name='AAPL') ]\n",
    "\n",
    "\n",
    "# updatemenus tells plotly what to show and what to hide when a button is pressed\n",
    "updatemenus = list([\n",
    "    dict(active = -1, # initialize with no buttons active\n",
    "         buttons = list([ # buttons is a list of dictionaries \n",
    "            dict(label = 'SPY',\n",
    "                 method = 'update',\n",
    "                 args = [{'visible': [True, False]},\n",
    "                         {'title': 'S&P 500'}]),\n",
    "            dict(label = 'AAPL',\n",
    "                 method = 'update',\n",
    "                 args = [{'visible': [False, True]},\n",
    "                         {'title': 'Apple'}]),\n",
    "            dict(label = 'Both',\n",
    "                 method = 'update',\n",
    "                 args = [{'visible': [True, True]},\n",
    "                         {'title': 'Apple vs S&P 500'}])\n",
    "        ]),\n",
    "    )\n",
    "])\n",
    "\n",
    "# layout here is not optional if you would like the buttons to show up\n",
    "layout = dict(title='Yahoo Finance', showlegend=True,\n",
    "              updatemenus=updatemenus)\n",
    "\n",
    "fig = dict(data=data, layout=layout)\n",
    "f = py.iplot(fig, filename='update_dropdown')\n",
    "f"
   ]
  },
  {
   "cell_type": "code",
   "execution_count": 11,
   "metadata": {
    "slideshow": {
     "slide_type": "subslide"
    }
   },
   "outputs": [
    {
     "data": {
      "text/html": [
       "<iframe id=\"igraph\" scrolling=\"no\" style=\"border:none;\" seamless=\"seamless\" src=\"https://plot.ly/~hsnee/10.embed\" height=\"525px\" width=\"100%\"></iframe>"
      ],
      "text/plain": [
       "<plotly.tools.PlotlyDisplay object>"
      ]
     },
     "execution_count": 11,
     "metadata": {},
     "output_type": "execute_result"
    }
   ],
   "source": [
    "aapl_df = web.DataReader('AAPL', 'yahoo', start, end).reset_index()\n",
    "data = [go.Scatter(x=spy_df.Date, y=rollingReturns(spy_df), name='S&P 500'),\n",
    "        go.Scatter(x=aapl_df.Date, y=rollingReturns(aapl_df), name='AAPL')]\n",
    "\n",
    "\n",
    "# updatemenus tells plotly what to show and what to hide when a button is pressed\n",
    "updatemenus = list([\n",
    "    dict(active = -1, # initialize with no buttons active\n",
    "         buttons = list([ # buttons is a list of dictionaries \n",
    "            dict(label = 'SPY',\n",
    "                 method = 'update',\n",
    "                 args = [{'visible': [True, False]},\n",
    "                         {'title': 'S&P 500'}]),\n",
    "            dict(label = 'AAPL',\n",
    "                 method = 'update',\n",
    "                 args = [{'visible': [False, True]},\n",
    "                         {'title': 'Apple'}]),\n",
    "            dict(label = 'Both',\n",
    "                 method = 'update',\n",
    "                 args = [{'visible': [True, True]},\n",
    "                         {'title': 'Apple vs S&P 500'}])\n",
    "        ]),\n",
    "    )\n",
    "])\n",
    "\n",
    "# layout here is not optional if you would like the buttons to show up\n",
    "layout = dict(title='Yahoo Finance', showlegend=True,\n",
    "              updatemenus=updatemenus)\n",
    "\n",
    "fig = dict(data=data, layout=layout)\n",
    "f = py.iplot(fig, filename='update_dropdown')\n",
    "f"
   ]
  },
  {
   "cell_type": "markdown",
   "metadata": {},
   "source": [
    "You can also view your plots online by going to your account, or pressing the `Edit Chart` button in a plot\n"
   ]
  }
 ],
 "metadata": {
  "celltoolbar": "Slideshow",
  "kernelspec": {
   "display_name": "Python 3",
   "language": "python",
   "name": "python3"
  },
  "language_info": {
   "codemirror_mode": {
    "name": "ipython",
    "version": 3
   },
   "file_extension": ".py",
   "mimetype": "text/x-python",
   "name": "python",
   "nbconvert_exporter": "python",
   "pygments_lexer": "ipython3",
   "version": "3.7.0"
  }
 },
 "nbformat": 4,
 "nbformat_minor": 2
}
