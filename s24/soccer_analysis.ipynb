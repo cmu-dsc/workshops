{
  "cells": [
    {
      "cell_type": "code",
      "execution_count": null,
      "metadata": {
        "id": "3Xw7T351TTGv"
      },
      "outputs": [],
      "source": [
        "import sqlite3\n",
        "import pandas as pd\n",
        "from IPython.display import display\n",
        "import sklearn\n",
        "from sklearn.linear_model import LogisticRegression\n",
        "import numpy as np"
      ]
    },
    {
      "cell_type": "code",
      "execution_count": null,
      "metadata": {
        "id": "qno9TuQLJN7v"
      },
      "outputs": [],
      "source": [
        "!gdown \"https://drive.google.com/uc?id=1a0e2Tp6Yiv3KXKHtfe4JlgCRW3UWoBpU\"\n",
        "!unzip /content/European-soccer-data.zip"
      ]
    },
    {
      "cell_type": "markdown",
      "metadata": {
        "id": "TsV9EhMgT-bw"
      },
      "source": [
        "#Data Gathering\n",
        "\n",
        "First we need to extract our dataset, since it's in the form of a sqlite databse\n",
        "we need to establish a connection to the database first and from there manipulate our connection to\n",
        "extract the data through queries"
      ]
    },
    {
      "cell_type": "code",
      "execution_count": null,
      "metadata": {
        "id": "DyIDsEgtTQmO"
      },
      "outputs": [],
      "source": [
        "connection  = sqlite3.connect(\"database.sqlite\")\n",
        "\n",
        "cursor = connection.cursor()\n",
        "\n",
        "query = \"SELECT * FROM Player;\"\n",
        "cursor.execute(query)\n",
        "players = pd.read_sql_query(query, connection)\n",
        "\n",
        "query = \"SELECT * FROM Player_Attributes;\"\n",
        "cursor.execute(query)\n",
        "player_attr = pd.read_sql_query(query, connection)\n",
        "\n",
        "query = \"SELECT * FROM Match;\"\n",
        "cursor.execute(query)\n",
        "matches = pd.read_sql_query(query, connection)\n",
        "\n",
        "query = \"SELECT * FROM League;\"\n",
        "cursor.execute(query)\n",
        "leagues = pd.read_sql_query(query, connection)\n",
        "\n",
        "query = \"SELECT * FROM Country;\"\n",
        "cursor.execute(query)\n",
        "countries = pd.read_sql_query(query, connection)\n",
        "\n",
        "query = \"SELECT * FROM Team;\"\n",
        "cursor.execute(query)\n",
        "teams = pd.read_sql_query(query, connection)\n",
        "\n",
        "query = \"SELECT * FROM Team_Attributes;\"\n",
        "cursor.execute(query)\n",
        "team_attr = pd.read_sql_query(query, connection)"
      ]
    },
    {
      "cell_type": "markdown",
      "metadata": {
        "id": "UIUTqDwhUEAQ"
      },
      "source": []
    },
    {
      "cell_type": "markdown",
      "metadata": {
        "id": "1-XYgCe2UF0B"
      },
      "source": [
        "#Data cleaning\n",
        "\n",
        "Getting rid of any row that has an NaN value in it does help us out since\n",
        "we can move forward with the assumption of clean data, but it will incur\n",
        "some data loss but since we only care about the appearnce of NaN values in specific columns, that can reduce the data loss\n",
        "\n",
        "Lets first clean up the data by parsing out only the information that we really need, and leaving out the data\n",
        "that won't have much of an impact"
      ]
    },
    {
      "cell_type": "code",
      "execution_count": null,
      "metadata": {
        "id": "moI3hqyYTcrW"
      },
      "outputs": [],
      "source": [
        "print(len(matches.columns))\n",
        "matches.drop(matches.columns[77:115], axis=1, inplace= True)\n",
        "matches.drop(matches.columns[11:55], axis=1, inplace= True)\n",
        "print(len(matches.columns))\n"
      ]
    },
    {
      "cell_type": "markdown",
      "metadata": {
        "id": "39dLYMosULq-"
      },
      "source": [
        "Now we can drop rows that contain NaN values since we'll now know that it's\n",
        "only for data we care about"
      ]
    },
    {
      "cell_type": "code",
      "execution_count": null,
      "metadata": {
        "id": "6zZ5b_zqUM7u"
      },
      "outputs": [],
      "source": [
        "print(len(matches))\n",
        "matches = matches.dropna()\n",
        "print(len(matches))\n"
      ]
    },
    {
      "cell_type": "markdown",
      "metadata": {
        "id": "p1wfZ10TUSjT"
      },
      "source": [
        "#Data Processing\n",
        "\n",
        "Now we'll maintain a dictionary of players and teams to their stats over time as well as matches to their stats"
      ]
    },
    {
      "cell_type": "code",
      "execution_count": null,
      "metadata": {
        "id": "ufS2PTZNUUXJ"
      },
      "outputs": [],
      "source": [
        "players_dict = {}\n",
        "team_dict =  {}\n",
        "match_dict = {}\n",
        "league_dict = {}\n",
        "country_dict = {}\n",
        "\n",
        "def getStats(ID,stat_source, data_source):\n",
        "    data= {}\n",
        "    stats = stat_source.loc[stat_source[data_source] == ID]\n",
        "    for date_data in stats.iterrows():\n",
        "        if data_source == 'match_api_id':\n",
        "            data = {}\n",
        "            for index,value in date_data[1].items():\n",
        "                if index != 'match_api_id':\n",
        "                    data[index] = value\n",
        "                if index == 'date':\n",
        "                    data[index] = value[0:4]\n",
        "        else:\n",
        "            year = date_data[1]['date'][0:4]\n",
        "            if year not in data:\n",
        "                data[year] = {}\n",
        "                for index,value in date_data[1].items():\n",
        "                    data[year][index] = value\n",
        "    return data"
      ]
    },
    {
      "cell_type": "code",
      "execution_count": null,
      "metadata": {
        "id": "Tt6Ws5zJUZjM"
      },
      "outputs": [],
      "source": [
        "for row in players.iterrows():\n",
        "    players_dict[row[1][1]] ={}\n",
        "    players_dict[row[1][1]]['name'] = row[1]['player_name']\n",
        "    players_dict[row[1][1]]['birthday'] = row[1]['birthday']\n",
        "    players_dict[row[1][1]]['height'] = row[1]['height']\n",
        "    players_dict[row[1][1]]['weight'] = row[1]['weight']\n",
        "    players_dict[row[1][1]]['overall_stats'] = getStats(row[1][1],player_attr,players.columns[1])\n",
        "\n",
        "for row in teams.iterrows():\n",
        "    team_dict[row[1][1]] ={}\n",
        "    team_dict[row[1][1]]['full_name'] = row[1]['team_long_name']\n",
        "    team_dict[row[1][1]]['short_name'] = row[1]['team_short_name']\n",
        "    team_dict[row[1][1]]['overall_stats'] = getStats(row[1][1],team_attr,team_attr.columns[2] )\n",
        "\n",
        "for row in matches.iterrows():\n",
        "    match_dict[row[1][6]] ={}\n",
        "    match_dict[row[1][6]] = getStats(row[1][6],matches,matches.columns[6])\n",
        "\n",
        "#Feel free to try and convert the rest of the tables into this format!\n"
      ]
    },
    {
      "cell_type": "markdown",
      "metadata": {
        "id": "0FwiA1zb_tl7"
      },
      "source": [
        "#Basic data analysis"
      ]
    },
    {
      "cell_type": "markdown",
      "metadata": {
        "id": "kQCVOgYJ_zG1"
      },
      "source": [
        "Now that we've oragnized the data into an eaiser form to work with from, we can being to answer some questions about the data wuch as win percentages of teams"
      ]
    },
    {
      "cell_type": "code",
      "execution_count": null,
      "metadata": {
        "id": "DvSmIff7_3yB"
      },
      "outputs": [],
      "source": [
        "wins_dict = {}\n",
        "\n",
        "for key in team_dict:\n",
        "    wins_dict[key] = {}\n",
        "    wins_dict[key]['wins'] = 0\n",
        "    wins_dict[key]['games'] = 0\n",
        "    wins_dict[key]['percentage'] = 0\n",
        "    wins_dict[key]['name'] = team_dict[key]['full_name']\n",
        "\n",
        "for key in match_dict:\n",
        "    #find the two teams\n",
        "    home_team_api = match_dict[key]['home_team_api_id']\n",
        "    away_team_api =match_dict[key]['away_team_api_id']\n",
        "    wins_dict[home_team_api]['games'] +=1\n",
        "    wins_dict[away_team_api]['games'] +=1\n",
        "    if match_dict[key]['home_team_goal'] >  match_dict[key]['away_team_goal']:\n",
        "        wins_dict[home_team_api]['wins'] +=1\n",
        "        wins_dict[home_team_api]['percentage'] = wins_dict[home_team_api]['wins']/wins_dict[home_team_api]['games']\n",
        "    if match_dict[key]['home_team_goal'] <  match_dict[key]['away_team_goal']:\n",
        "        wins_dict[away_team_api]['wins'] +=1\n",
        "        wins_dict[away_team_api]['percentage'] = wins_dict[away_team_api]['wins']/ wins_dict[away_team_api]['games']\n",
        "\n",
        "\n",
        "max_per = 0\n",
        "best_team = ''\n",
        "\n",
        "for key in wins_dict:\n",
        "    if wins_dict[key]['percentage'] > max_per:\n",
        "        max_per = wins_dict[key]['percentage']\n",
        "        best_team = wins_dict[key]['name']\n",
        "print(\"the team with the best win percentage is\",best_team,\"with a win percentage of\", round(max_per,2))\n",
        "\n",
        "#TODO: find the team with the lowest win percentage\n"
      ]
    },
    {
      "cell_type": "markdown",
      "source": [
        "Here are some more aggregated stats that tell us a bit more about the data"
      ],
      "metadata": {
        "id": "E9Rh5WcZTBdO"
      }
    },
    {
      "cell_type": "code",
      "execution_count": null,
      "metadata": {
        "id": "kBoLlS2y0fI-"
      },
      "outputs": [],
      "source": [
        "def get_team_playstyle(team):\n",
        "\n",
        "    #retrieve some relevant team statistics\n",
        "    team_features =np.array(['defencePressure', 'buildUpPlaySpeed', 'chanceCreationShooting'])\n",
        "    total_defencePressure = 0\n",
        "    buildUpPlaySpeed = 0\n",
        "    chanceCreationShooting = 0\n",
        "    num_years = len(team_dict[team]['overall_stats'].keys())\n",
        "    print(team_dict[team]['overall_stats'] != {})\n",
        "    if team_dict[team]['overall_stats'] != {}:\n",
        "        for year in team_dict[team]['overall_stats'].keys():\n",
        "            total_defencePressure += team_dict[team]['overall_stats'][year][team_features[0]]\n",
        "            buildUpPlaySpeed += team_dict[team]['overall_stats'][year][team_features[1]]\n",
        "            chanceCreationShooting += team_dict[team]['overall_stats'][year][team_features[2]]\n",
        "\n",
        "        average_total_defencePressure =total_defencePressure/num_years\n",
        "        average_buildUpPlaySpeed =buildUpPlaySpeed/num_years\n",
        "        average_chanceCreationShooting =chanceCreationShooting/num_years\n",
        "\n",
        "        team_playstyle = np.array([average_total_defencePressure,average_buildUpPlaySpeed,average_chanceCreationShooting])\n",
        "    else:\n",
        "      team_playstyle = np.array([0,0,0])\n",
        "\n",
        "\n",
        "def get_team_player_averages(team):\n",
        "    return 42\n",
        "\n",
        "\n",
        "    #TODO: Find average player rating for team for a given year\n"
      ]
    },
    {
      "cell_type": "markdown",
      "metadata": {
        "id": "WSM1kQuKtxu4"
      },
      "source": [
        "#Loading in Data\n"
      ]
    },
    {
      "cell_type": "code",
      "execution_count": null,
      "metadata": {
        "id": "2mbpP0q8t0Cs"
      },
      "outputs": [],
      "source": [
        "X_train = []\n",
        "y_train = []\n",
        "\n",
        "\n",
        "print(\"Starting training data cureation!\")\n",
        "X_train = []  # List of feature vectors\n",
        "y_train = []  # List of labels\n",
        "\n",
        "for key in match_dict.keys():\n",
        "    home_team_id = match_dict[key]['home_team_api_id']\n",
        "    away_team_id = match_dict[key]['away_team_api_id']\n",
        "    home_goals = match_dict[key]['home_team_goal']\n",
        "    away_goals = match_dict[key]['away_team_goal']\n",
        "\n",
        "    if home_goals > away_goals:\n",
        "        winning_team = home_team_id\n",
        "        losing_team = away_team_id\n",
        "    if home_goals < away_goals:\n",
        "        losing_team = home_team_id\n",
        "        winning_team = away_team_id\n",
        "    losing_team_win_percentage = wins_dict[losing_team]['percentage']\n",
        "    winning_team_win_percentage = wins_dict[winning_team]['percentage']\n",
        "\n",
        "    # Randomize the winner order\n",
        "    if np.random.uniform(0,1) < 0.5:\n",
        "        X_train.append(np.array([losing_team, winning_team, losing_team_win_percentage,winning_team_win_percentage]))\n",
        "        y_train.append(0)  # 0 for losing, 1 for winning\n",
        "\n",
        "    else:\n",
        "        X_train.append(np.array([winning_team, losing_team, winning_team_win_percentage,losing_team_win_percentage]))\n",
        "        y_train.append(1)  # 0 for losing, 1 for winning\n"
      ]
    },
    {
      "cell_type": "markdown",
      "source": [
        "#Training"
      ],
      "metadata": {
        "id": "mzF_9NjvwVVZ"
      }
    },
    {
      "cell_type": "code",
      "execution_count": null,
      "metadata": {
        "id": "9agG_Ji0t5tS"
      },
      "outputs": [],
      "source": [
        "print(\"Starting Training!\")\n",
        "# Train the logistic regression model\n",
        "model = sklearn.linear_model.LogisticRegression()\n",
        "out = model.fit(X_train, y_train)\n",
        "print(\"Done!\")"
      ]
    },
    {
      "cell_type": "markdown",
      "metadata": {
        "id": "mf_07buzuFFO"
      },
      "source": [
        "#Prediction"
      ]
    },
    {
      "cell_type": "code",
      "execution_count": null,
      "metadata": {
        "id": "ei82r6lIt-fg"
      },
      "outputs": [],
      "source": [
        "result = \"\"\n",
        "X_predict = np.array([8634, 8633, wins_dict[8634]['percentage'],wins_dict[8633]['percentage']]).reshape(1, -1)\n",
        "\n",
        "out = model.predict(X_predict)\n",
        "probabilities = model.predict_proba(X_predict)\n",
        "probability_of_positive_class = probabilities[:, 1]\n",
        "\n",
        "if out[0] == 0:\n",
        "    result = \"No\"\n",
        "else:\n",
        "    result = \"Yes\"\n",
        "\n",
        "print(\"Will Team1 beat Team2? \",result,\" With what? probability? \", round(probability_of_positive_class[0],2))\n"
      ]
    },
    {
      "cell_type": "code",
      "source": [
        "#TODO: Now that we have a predictive model for which teams could beat other teams, try and make a simple 8 team knockout style tournament!\n",
        "\n",
        "teams = [8634, 8633, 8655, 8586, 8658, 10003, 8455, 8483]\n"
      ],
      "metadata": {
        "id": "BhO09NzntI7K"
      },
      "execution_count": null,
      "outputs": []
    },
    {
      "cell_type": "code",
      "source": [
        "for team1 in teams:\n",
        "    for team2 in teams:\n",
        "        print(team1, \"vs\", team2)\n",
        "        result = \"\"\n",
        "        X_predict = np.array([team1, team2, wins_dict[team1]['percentage'],wins_dict[team2]['percentage']]).reshape(1, -1)\n",
        "\n",
        "        out = model.predict(X_predict)\n",
        "        probabilities = model.predict_proba(X_predict)\n",
        "        probability_of_positive_class = probabilities[:, 1]\n",
        "\n",
        "        if out[0] == 0:\n",
        "            result = \"No\"\n",
        "        else:\n",
        "            result = \"Yes\"\n",
        "\n",
        "        print(\"Will Team1 beat Team2? \",result,\" With what? probability? \", probability_of_positive_class[0])\n"
      ],
      "metadata": {
        "id": "t3RaRaeFA-hr"
      },
      "execution_count": null,
      "outputs": []
    },
    {
      "cell_type": "markdown",
      "metadata": {
        "id": "xqDcJxrxb_SY"
      },
      "source": [
        "# Sandbox\n",
        "\n",
        "Feel free to try something new, maybe add some new data analytics, or try to retrain the model with new combinations of features!"
      ]
    }
  ],
  "metadata": {
    "colab": {
      "provenance": []
    },
    "kernelspec": {
      "display_name": "Python 3",
      "name": "python3"
    },
    "language_info": {
      "name": "python"
    }
  },
  "nbformat": 4,
  "nbformat_minor": 0
}