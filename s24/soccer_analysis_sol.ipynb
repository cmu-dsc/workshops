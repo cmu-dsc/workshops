{
  "cells": [
    {
      "cell_type": "code",
      "execution_count": null,
      "metadata": {
        "id": "3Xw7T351TTGv"
      },
      "outputs": [],
      "source": [
        "import sqlite3\n",
        "import pandas as pd\n",
        "from IPython.display import display\n",
        "import sklearn\n",
        "from sklearn.linear_model import LogisticRegression\n",
        "import numpy as np"
      ]
    },
    {
      "cell_type": "code",
      "execution_count": null,
      "metadata": {
        "colab": {
          "base_uri": "https://localhost:8080/"
        },
        "id": "qno9TuQLJN7v",
        "outputId": "0d214aa2-6710-4d39-bf2b-d8b8833da6b3"
      },
      "outputs": [
        {
          "output_type": "stream",
          "name": "stdout",
          "text": [
            "Downloading...\n",
            "From (original): https://drive.google.com/uc?id=1a0e2Tp6Yiv3KXKHtfe4JlgCRW3UWoBpU\n",
            "From (redirected): https://drive.google.com/uc?id=1a0e2Tp6Yiv3KXKHtfe4JlgCRW3UWoBpU&confirm=t&uuid=cb6dd73d-8473-45c5-a5c8-4636ce43c6b2\n",
            "To: /content/European-soccer-data.zip\n",
            "100% 34.3M/34.3M [00:00<00:00, 87.9MB/s]\n",
            "Archive:  /content/European-soccer-data.zip\n",
            "replace database.sqlite? [y]es, [n]o, [A]ll, [N]one, [r]ename: y\n",
            "  inflating: database.sqlite         \n"
          ]
        }
      ],
      "source": [
        "!gdown \"https://drive.google.com/uc?id=1a0e2Tp6Yiv3KXKHtfe4JlgCRW3UWoBpU\"\n",
        "!unzip /content/European-soccer-data.zip"
      ]
    },
    {
      "cell_type": "markdown",
      "metadata": {
        "id": "TsV9EhMgT-bw"
      },
      "source": [
        "#Data Gathering\n",
        "\n",
        "First we need to extract our dataset, since it's in the form of a sqlite databse\n",
        "we need to establish a connection to it first and from there manipulate our connection to\n",
        "extract the data"
      ]
    },
    {
      "cell_type": "code",
      "execution_count": null,
      "metadata": {
        "id": "DyIDsEgtTQmO"
      },
      "outputs": [],
      "source": [
        "connection  = sqlite3.connect(\"database.sqlite\")\n",
        "\n",
        "cursor = connection.cursor()\n",
        "\n",
        "query = \"SELECT * FROM Player;\"\n",
        "cursor.execute(query)\n",
        "players = pd.read_sql_query(query, connection)\n",
        "\n",
        "query = \"SELECT * FROM Player_Attributes;\"\n",
        "cursor.execute(query)\n",
        "player_attr = pd.read_sql_query(query, connection)\n",
        "\n",
        "query = \"SELECT * FROM Match;\"\n",
        "cursor.execute(query)\n",
        "matches = pd.read_sql_query(query, connection)\n",
        "\n",
        "query = \"SELECT * FROM League;\"\n",
        "cursor.execute(query)\n",
        "leagues = pd.read_sql_query(query, connection)\n",
        "\n",
        "query = \"SELECT * FROM Country;\"\n",
        "cursor.execute(query)\n",
        "countries = pd.read_sql_query(query, connection)\n",
        "\n",
        "query = \"SELECT * FROM Team;\"\n",
        "cursor.execute(query)\n",
        "teams = pd.read_sql_query(query, connection)\n",
        "\n",
        "query = \"SELECT * FROM Team_Attributes;\"\n",
        "cursor.execute(query)\n",
        "team_attr = pd.read_sql_query(query, connection)"
      ]
    },
    {
      "cell_type": "markdown",
      "metadata": {
        "id": "UIUTqDwhUEAQ"
      },
      "source": []
    },
    {
      "cell_type": "markdown",
      "metadata": {
        "id": "1-XYgCe2UF0B"
      },
      "source": [
        "#Data cleaning\n",
        "\n",
        "Getting rid of any row that has an NaN value in it does help us out since\n",
        "we can move forward with the assumption of clean data, but it will incur\n",
        "some data loss but since we only care about the appearnce of NaN values in specific values,that can reduce the data loss\n",
        "\n",
        "Lets first clean up the data by parsing out only the information that we really need, and leaving out the data\n",
        "that won't have much of an impact"
      ]
    },
    {
      "cell_type": "code",
      "execution_count": null,
      "metadata": {
        "colab": {
          "base_uri": "https://localhost:8080/"
        },
        "id": "moI3hqyYTcrW",
        "outputId": "d371652f-31c3-4d02-eab4-188b8d040c84"
      },
      "outputs": [
        {
          "output_type": "stream",
          "name": "stdout",
          "text": [
            "115\n",
            "33\n"
          ]
        }
      ],
      "source": [
        "print(len(matches.columns))\n",
        "matches.drop(matches.columns[77:115], axis=1, inplace= True)\n",
        "matches.drop(matches.columns[11:55], axis=1, inplace= True)\n",
        "print(len(matches.columns))\n"
      ]
    },
    {
      "cell_type": "markdown",
      "metadata": {
        "id": "39dLYMosULq-"
      },
      "source": [
        "Now we can drop rows that contain NaN values since we'll now know that it's\n",
        "only for data we care about"
      ]
    },
    {
      "cell_type": "code",
      "execution_count": null,
      "metadata": {
        "colab": {
          "base_uri": "https://localhost:8080/"
        },
        "id": "6zZ5b_zqUM7u",
        "outputId": "48e13106-a17c-42fc-c9df-02b45d28e6dc"
      },
      "outputs": [
        {
          "output_type": "stream",
          "name": "stdout",
          "text": [
            "25979\n",
            "21374\n"
          ]
        }
      ],
      "source": [
        "print(len(matches))\n",
        "matches = matches.dropna()\n",
        "print(len(matches))\n"
      ]
    },
    {
      "cell_type": "markdown",
      "metadata": {
        "id": "p1wfZ10TUSjT"
      },
      "source": [
        "#Data Processing\n",
        "\n",
        "Now we'll maintain a dictionary of players and teams to their stats over time as well as matches to their stats"
      ]
    },
    {
      "cell_type": "code",
      "execution_count": null,
      "metadata": {
        "id": "ufS2PTZNUUXJ"
      },
      "outputs": [],
      "source": [
        "players_dict = {}\n",
        "team_dict =  {}\n",
        "match_dict = {}\n",
        "league_dict = {}\n",
        "country_dict = {}\n",
        "\n",
        "def getStats(ID,stat_source, data_source):\n",
        "    data= {}\n",
        "    stats = stat_source.loc[stat_source[data_source] == ID]\n",
        "    for date_data in stats.iterrows():\n",
        "        if data_source == 'match_api_id':\n",
        "            data = {}\n",
        "            for index,value in date_data[1].items():\n",
        "                if index != 'match_api_id':\n",
        "                    data[index] = value\n",
        "                if index == 'date':\n",
        "                    data[index] = value[0:4]\n",
        "        else:\n",
        "            year = date_data[1]['date'][0:4]\n",
        "            if year not in data:\n",
        "                data[year] = {}\n",
        "                for index,value in date_data[1].items():\n",
        "                    data[year][index] = value\n",
        "    return data"
      ]
    },
    {
      "cell_type": "code",
      "execution_count": null,
      "metadata": {
        "id": "Tt6Ws5zJUZjM"
      },
      "outputs": [],
      "source": [
        "for row in players.iterrows():\n",
        "    players_dict[row[1][1]] ={}\n",
        "    players_dict[row[1][1]]['name'] = row[1]['player_name']\n",
        "    players_dict[row[1][1]]['birthday'] = row[1]['birthday']\n",
        "    players_dict[row[1][1]]['height'] = row[1]['height']\n",
        "    players_dict[row[1][1]]['weight'] = row[1]['weight']\n",
        "    players_dict[row[1][1]]['overall_stats'] = getStats(row[1][1],player_attr,players.columns[1])\n",
        "\n",
        "for row in teams.iterrows():\n",
        "    team_dict[row[1][1]] ={}\n",
        "    team_dict[row[1][1]]['full_name'] = row[1]['team_long_name']\n",
        "    team_dict[row[1][1]]['short_name'] = row[1]['team_short_name']\n",
        "    team_dict[row[1][1]]['overall_stats'] = getStats(row[1][1],team_attr,team_attr.columns[2] )\n",
        "\n",
        "for row in matches.iterrows():\n",
        "    match_dict[row[1][6]] ={}\n",
        "    match_dict[row[1][6]] = getStats(row[1][6],matches,matches.columns[6] )\n",
        "\n",
        "for row in leagues.iterrows():\n",
        "    league_dict[row[1][1]] ={row[1][2]}\n",
        "\n",
        "\n",
        "for row in countries.iterrows():\n",
        "    country_dict[row[1][0]] ={row[1][1]}"
      ]
    },
    {
      "cell_type": "markdown",
      "metadata": {
        "id": "0FwiA1zb_tl7"
      },
      "source": [
        "#Basic data analysis"
      ]
    },
    {
      "cell_type": "markdown",
      "metadata": {
        "id": "kQCVOgYJ_zG1"
      },
      "source": [
        "Now that we've oragnized the data into an eaiser to work with from, we can being to answer somes questions. A good one to start with would be, which team has the best win percentage in the 11 leagues represented in this data set?"
      ]
    },
    {
      "cell_type": "code",
      "execution_count": null,
      "metadata": {
        "colab": {
          "base_uri": "https://localhost:8080/"
        },
        "id": "DvSmIff7_3yB",
        "outputId": "910ac2a1-53c3-4b81-a038-b6f61db02388"
      },
      "outputs": [
        {
          "output_type": "stream",
          "name": "stdout",
          "text": [
            "the with the best win percentage is FC Barcelona with a win percentage of 0.77\n"
          ]
        }
      ],
      "source": [
        "wins_dict = {}\n",
        "\n",
        "for key in team_dict:\n",
        "    wins_dict[key] = {}\n",
        "    wins_dict[key]['wins'] = 0\n",
        "    wins_dict[key]['games'] = 0\n",
        "    wins_dict[key]['percentage'] = 0\n",
        "    wins_dict[key]['name'] = team_dict[key]['full_name']\n",
        "\n",
        "for key in match_dict:\n",
        "    #find the two teams\n",
        "    wins_dict[match_dict[key]['home_team_api_id']]['games'] +=1\n",
        "    wins_dict[match_dict[key]['away_team_api_id']]['games'] +=1\n",
        "    if match_dict[key]['home_team_goal'] >  match_dict[key]['away_team_goal']:\n",
        "        wins_dict[match_dict[key]['home_team_api_id']]['wins'] +=1\n",
        "        wins_dict[match_dict[key]['home_team_api_id']]['percentage'] = wins_dict[match_dict[key]['home_team_api_id']]['wins']/wins_dict[match_dict[key]['home_team_api_id']]['games']\n",
        "    if match_dict[key]['home_team_goal'] <  match_dict[key]['away_team_goal']:\n",
        "        wins_dict[match_dict[key]['away_team_api_id']]['wins'] +=1\n",
        "        wins_dict[match_dict[key]['away_team_api_id']]['percentage'] = wins_dict[match_dict[key]['away_team_api_id']]['wins']/ wins_dict[match_dict[key]['away_team_api_id']]['games']\n",
        "\n",
        "\n",
        "max_per = 0\n",
        "best_team = ''\n",
        "\n",
        "for key in wins_dict:\n",
        "    if wins_dict[key]['percentage'] > max_per:\n",
        "        max_per = wins_dict[key]['percentage']\n",
        "        best_team = wins_dict[key]['name']\n",
        "print(\"the with the best win percentage is\",best_team,\"with a win percentage of\", round(max_per,2))\n"
      ]
    },
    {
      "cell_type": "code",
      "execution_count": null,
      "metadata": {
        "id": "kBoLlS2y0fI-"
      },
      "outputs": [],
      "source": [
        "def aggregate_team_stats( team):\n",
        "    final_results = [0,0,0,0,0]\n",
        "\n",
        "    #retrieve team winning percentage\n",
        "    final_results[0] = wins_dict[team]['percentage']\n",
        "\n",
        "    #retrieve some relevant team statistics\n",
        "    team_features =np.array(['defencePressure', 'buildUpPlaySpeed', 'chanceCreationShooting'])\n",
        "    total_defencePressure = 0\n",
        "    buildUpPlaySpeed = 0\n",
        "    chanceCreationShooting = 0\n",
        "    num_years = len(team_dict[team]['overall_stats'].keys())\n",
        "    print(team_dict[team]['overall_stats'] != {})\n",
        "    if team_dict[team]['overall_stats'] != {}:\n",
        "        for year in team_dict[team]['overall_stats'].keys():\n",
        "            total_defencePressure += team_dict[team]['overall_stats'][year][team_features[0]]\n",
        "            buildUpPlaySpeed += team_dict[team]['overall_stats'][year][team_features[1]]\n",
        "            chanceCreationShooting += team_dict[team]['overall_stats'][year][team_features[2]]\n",
        "\n",
        "        average_total_defencePressure =total_defencePressure/num_years\n",
        "        average_buildUpPlaySpeed =buildUpPlaySpeed/num_years\n",
        "        average_chanceCreationShooting =chanceCreationShooting/num_years\n",
        "\n",
        "        final_results[1]=average_total_defencePressure\n",
        "        final_results[2]=average_buildUpPlaySpeed\n",
        "        final_results[3]=average_chanceCreationShooting\n",
        "\n",
        "\n",
        "        #get average player ratings for football club\n",
        "        total_team_rating =0\n",
        "        num_players = 0\n",
        "        for key in match_dict.keys():\n",
        "            home_team_id = match_dict[key]['home_team_api_id']\n",
        "            away_team_id = match_dict[key]['away_team_api_id']\n",
        "            year_of_match = match_dict[key]['date']\n",
        "            if team == home_team_id:\n",
        "                for player in list(match_dict[key].keys())[10:21]:\n",
        "                    if year_of_match in players_dict[match_dict[key][player]]['overall_stats']:\n",
        "                        total_team_rating += players_dict[match_dict[key][player]]['overall_stats'][year_of_match]['overall_rating']\n",
        "                        num_players += 1\n",
        "                average_team_rating = total_team_rating/num_players\n",
        "                final_results[4] = average_team_rating\n",
        "\n",
        "            if team == away_team_id:\n",
        "\n",
        "                for player in list(match_dict[key].keys())[22:33]:\n",
        "                    if year_of_match in players_dict[match_dict[key][player]]['overall_stats']:\n",
        "                        total_team_rating += players_dict[match_dict[key][player]]['overall_stats'][year_of_match]['overall_rating']\n",
        "                        num_players += 1\n",
        "                average_team_rating = total_team_rating/num_players\n",
        "                final_results[4] = average_team_rating\n",
        "            else:\n",
        "\n",
        "                average_team_rating = 0\n",
        "                final_results[4] = average_team_rating\n",
        "\n",
        "    else:\n",
        "        final_results[1]=0\n",
        "        final_results[2]=0\n",
        "        final_results[3]=0\n",
        "        final_results[4]=0\n",
        "    return final_results"
      ]
    },
    {
      "cell_type": "markdown",
      "metadata": {
        "id": "WSM1kQuKtxu4"
      },
      "source": [
        "#Prediction"
      ]
    },
    {
      "cell_type": "code",
      "execution_count": null,
      "metadata": {
        "colab": {
          "base_uri": "https://localhost:8080/"
        },
        "id": "2mbpP0q8t0Cs",
        "outputId": "b238a038-d5e5-4ba1-f8d4-4a81a47fdf53"
      },
      "outputs": [
        {
          "output_type": "stream",
          "name": "stdout",
          "text": [
            "Starting Data organization!\n"
          ]
        }
      ],
      "source": [
        "X_train = []\n",
        "y_train = []\n",
        "\n",
        "\n",
        "\n",
        "\n",
        "print(\"Starting Data organization!\")\n",
        "X_train = []  # List of feature vectors\n",
        "y_train = []  # List of labels\n",
        "\n",
        "for key in match_dict.keys():\n",
        "    home_team_id = match_dict[key]['home_team_api_id']\n",
        "    away_team_id = match_dict[key]['away_team_api_id']\n",
        "    home_goals = match_dict[key]['home_team_goal']\n",
        "    away_goals = match_dict[key]['away_team_goal']\n",
        "\n",
        "    if home_goals > away_goals:\n",
        "        winning_team = home_team_id\n",
        "        losing_team = away_team_id\n",
        "    if home_goals < away_goals:\n",
        "        losing_team = home_team_id\n",
        "        winning_team = away_team_id\n",
        "    losing_team_win_percentage = wins_dict[losing_team]['percentage']\n",
        "    winning_team_win_percentage = wins_dict[winning_team]['percentage']\n",
        "\n",
        "    # Randomize the winner order\n",
        "    if np.random.uniform(0,1) < 0.5:\n",
        "        X_train.append(np.array([losing_team, winning_team, losing_team_win_percentage,winning_team_win_percentage]))\n",
        "        y_train.append(0)  # 0 for losing, 1 for winning\n",
        "\n",
        "    else:\n",
        "        X_train.append(np.array([winning_team, losing_team, winning_team_win_percentage,losing_team_win_percentage]))\n",
        "        y_train.append(1)  # 0 for losing, 1 for winning\n"
      ]
    },
    {
      "cell_type": "code",
      "execution_count": null,
      "metadata": {
        "id": "9agG_Ji0t5tS",
        "colab": {
          "base_uri": "https://localhost:8080/"
        },
        "outputId": "606cb83e-339d-4902-b74e-38095ebbf739"
      },
      "outputs": [
        {
          "output_type": "stream",
          "name": "stdout",
          "text": [
            "Starting Training!\n",
            "Done!\n"
          ]
        }
      ],
      "source": [
        "print(\"Starting Training!\")\n",
        "# Train the logistic regression model\n",
        "model = sklearn.linear_model.LogisticRegression()\n",
        "out = model.fit(X_train, y_train)\n",
        "print(\"Done!\")"
      ]
    },
    {
      "cell_type": "markdown",
      "metadata": {
        "id": "mf_07buzuFFO"
      },
      "source": [
        "#Testing"
      ]
    },
    {
      "cell_type": "code",
      "execution_count": null,
      "metadata": {
        "id": "ei82r6lIt-fg",
        "colab": {
          "base_uri": "https://localhost:8080/"
        },
        "outputId": "e21d39a4-46af-46d8-9261-8606132498c5"
      },
      "outputs": [
        {
          "output_type": "stream",
          "name": "stdout",
          "text": [
            "Will Team1 beat Team2  No  With what? probability?  [0.49834389]\n"
          ]
        }
      ],
      "source": [
        "result =\"\"\n",
        "X_predict = np.array([8634, 8633, wins_dict[8634]['percentage'],wins_dict[8633]['percentage']]).reshape(1, -1)\n",
        "\n",
        "out = model.predict(X_predict)\n",
        "probabilities = model.predict_proba(X_predict)\n",
        "probability_of_positive_class = probabilities[:, 1]\n",
        "\n",
        "\n",
        "if out[0] == 0:\n",
        "    result = \"No\"\n",
        "else:\n",
        "    result = \"Yes\"\n",
        "print(\"Will Team1 beat Team2 \",result,\" With what? probability? \", probability_of_positive_class)\n"
      ]
    },
    {
      "cell_type": "markdown",
      "metadata": {
        "id": "xqDcJxrxb_SY"
      },
      "source": [
        "# Sandbox\n",
        "\n",
        "Feel free to try something new, maybe add some new data analytics, or try to retrain the model with new combinations of features!"
      ]
    }
  ],
  "metadata": {
    "colab": {
      "provenance": []
    },
    "kernelspec": {
      "display_name": "Python 3",
      "name": "python3"
    },
    "language_info": {
      "name": "python"
    }
  },
  "nbformat": 4,
  "nbformat_minor": 0
}